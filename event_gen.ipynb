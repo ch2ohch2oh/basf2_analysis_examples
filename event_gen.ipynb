{
 "cells": [
  {
   "cell_type": "code",
   "execution_count": 10,
   "metadata": {},
   "outputs": [
    {
     "data": {
      "application/vnd.jupyter.widget-view+json": {
       "model_id": "37c27e3641fc46cc945a154042804282",
       "version_major": 2,
       "version_minor": 0
      },
      "text/plain": [
       "VBox(children=(FloatProgress(value=0.0, layout=Layout(height='40px', width='100%'), max=1.0), Label(value=''))…"
      ]
     },
     "metadata": {},
     "output_type": "display_data"
    },
    {
     "data": {
      "application/vnd.jupyter.widget-view+json": {
       "model_id": "fe343d325781490384d26ba5d6e8bf94",
       "version_major": 2,
       "version_minor": 0
      },
      "text/plain": [
       "VBox(children=(HBox(children=(HTML(value='<a onclick=\"$(\\'.log-line-debug\\').hide();\\n                        …"
      ]
     },
     "metadata": {},
     "output_type": "display_data"
    },
    {
     "name": "stdout",
     "output_type": "stream",
     "text": [
      "\n"
     ]
    },
    {
     "name": "stderr",
     "output_type": "stream",
     "text": [
      "Error in <TProtoClass::FindDataMember>: data member with index 0 is not found in class locale\n",
      "Error in <CreateRealData>: Cannot find data member # 0 of class locale for parent Belle2::DataStore!\n"
     ]
    }
   ],
   "source": [
    "#!/usr/bin/env python3\n",
    "# -*- coding: utf-8 -*-\n",
    "\n",
    "######################################################\n",
    "#\n",
    "# Stuck? Ask for help at questions.belle2.org\n",
    "#\n",
    "# Y(4S) -> BBbar event generation\n",
    "#\n",
    "# This tutorial demonstrates how to generate\n",
    "#\n",
    "# e+e- -> Y(4S) -> BBbar\n",
    "#\n",
    "# events with EvtGen in BASF2, where the decay of Y(4S)\n",
    "# is specified by the given .dec file.\n",
    "#\n",
    "# The generated events are saved to the output ROOT file.\n",
    "# In each event the generated particles (MCParticle objects)\n",
    "# are stored in the StoreArray<MCParticle>.\n",
    "#\n",
    "# Contributors: A. Zupanc (June 2014), I.Komarov (Sept. 2018)\n",
    "#\n",
    "######################################################\n",
    "\n",
    "import basf2 as b2\n",
    "import generators as ge\n",
    "import modularAnalysis as ma\n",
    "\n",
    "# generation of 100 events according to the specified DECAY table\n",
    "# Y(4S) -> Btag- Bsig+\n",
    "# Btag- -> D0 pi-; D0 -> K- pi+\n",
    "# Bsig+ -> mu+ nu_mu\n",
    "#\n",
    "\n",
    "# Defining custom path\n",
    "my_path = b2.create_path()\n",
    "\n",
    "# Setting up number of events to generate\n",
    "# This is needed before you generate any events\n",
    "ma.setupEventInfo(noEvents=10, path=my_path)\n",
    "\n",
    "# Adding genberator\n",
    "# This specific event generator will generate either charged final states (charged B mesons)\n",
    "# or mixed final states (neutal B mesons)\n",
    "ge.add_evtgen_generator(path=my_path,\n",
    "                        finalstate='signal',\n",
    "                        signaldecfile=b2.find_file(\n",
    "                            'analysis/examples/tutorials/B2A101-Y4SEventGeneration.dec'))\n",
    "\n",
    "# Set the first parameter to zero if you want to see all the events.\n",
    "# This will show how many particles are generated in each event.\n",
    "#ma.printDataStore(0, path=my_path)\n",
    "# Show the decay chain in each event\n",
    "#ma.printMCParticles(path=my_path)\n",
    "\n",
    "# dump generated events in DST format to the output ROOT file\n",
    "#\n",
    "my_path.add_module('RootOutput', outputFileName='generated_events.root')\n",
    "\n",
    "# process all modules added to the analysis_main path\n",
    "# (note: analysis_main is the default path created in the modularAnalysis.py)\n",
    "b2.process(path=my_path)\n",
    "\n",
    "# print out the summary\n",
    "print(b2.statistics)\n"
   ]
  },
  {
   "cell_type": "code",
   "execution_count": null,
   "metadata": {},
   "outputs": [],
   "source": []
  }
 ],
 "metadata": {
  "kernelspec": {
   "display_name": "Python 3 (Belle2)",
   "language": "python",
   "name": "python3"
  },
  "language_info": {
   "codemirror_mode": {
    "name": "ipython",
    "version": 3
   },
   "file_extension": ".py",
   "mimetype": "text/x-python",
   "name": "python",
   "nbconvert_exporter": "python",
   "pygments_lexer": "ipython3",
   "version": "3.6.6"
  }
 },
 "nbformat": 4,
 "nbformat_minor": 2
}
