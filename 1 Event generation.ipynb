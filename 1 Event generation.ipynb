{
 "cells": [
  {
   "cell_type": "markdown",
   "metadata": {},
   "source": [
    "# 1 Event generation in Basf2"
   ]
  },
  {
   "cell_type": "code",
   "execution_count": 1,
   "metadata": {},
   "outputs": [
    {
     "name": "stdout",
     "output_type": "stream",
     "text": [
      "Alias MyB+ B+\r\n",
      "Alias MyB- B-\r\n",
      "\r\n",
      "Decay Upsilon(4S)\r\n",
      "1.0 MyB+ MyB- VSS;\r\n",
      "Enddecay\r\n",
      "\r\n",
      "Decay MyB+\r\n",
      "1.0 mu+ nu_mu PHOTOS SLN;\r\n",
      "Enddecay\r\n",
      "\r\n",
      "Decay MyB-\r\n",
      "1.0 pi- D0 PHOTOS PHSP;\r\n",
      "Enddecay\r\n",
      "\r\n",
      "Decay D0\r\n",
      "0.2   K-  pi+           PHOTOS PHSP;\r\n",
      "0.2   K-  pi+ pi0       PHOTOS PHSP;\r\n",
      "0.2   K-  pi+ pi+ pi-   PHOTOS PHSP;\r\n",
      "0.2   K-  K+            PHOTOS PHSP;\r\n",
      "0.2   pi- pi+           PHOTOS PHSP;\r\n",
      "Enddecay\r\n",
      "CDecay anti-D0\r\n",
      "\r\n",
      "End\r\n"
     ]
    }
   ],
   "source": [
    "!cat event_gen.dec"
   ]
  },
  {
   "cell_type": "code",
   "execution_count": 7,
   "metadata": {},
   "outputs": [
    {
     "data": {
      "application/vnd.jupyter.widget-view+json": {
       "model_id": "fea7e25b49a64c1783c2ebec92e2219f",
       "version_major": 2,
       "version_minor": 0
      },
      "text/plain": [
       "Accordion(children=(HTML(value='<table style=\"margin-left: auto; margin-right: auto;\\n                        …"
      ]
     },
     "metadata": {},
     "output_type": "display_data"
    },
    {
     "data": {
      "application/vnd.jupyter.widget-view+json": {
       "model_id": "708cc2c83183401485e0d5664ca707ca",
       "version_major": 2,
       "version_minor": 0
      },
      "text/plain": [
       "VBox(children=(FloatProgress(value=0.0, layout=Layout(height='40px', width='100%'), max=1.0), Label(value=''))…"
      ]
     },
     "metadata": {},
     "output_type": "display_data"
    },
    {
     "data": {
      "application/vnd.jupyter.widget-view+json": {
       "model_id": "a35cbe8d001e48ddab786578e1124d31",
       "version_major": 2,
       "version_minor": 0
      },
      "text/plain": [
       "VBox(children=(HBox(children=(HTML(value='<a onclick=\"$(\\'.log-line-debug\\').hide();\\n                        …"
      ]
     },
     "metadata": {},
     "output_type": "display_data"
    },
    {
     "name": "stdout",
     "output_type": "stream",
     "text": [
      "{\"level\":\"WARNING\",\"message\":\"A file \\/gpfs\\/home\\/belle2\\/dazhi\\/analysis_examples\\/event_gen.root is already registered and will be overwritten in the catalog.\",\"module\":\"RootOutput\"}\n"
     ]
    },
    {
     "name": "stderr",
     "output_type": "stream",
     "text": [
      "Error in <TProtoClass::FindDataMember>: data member with index 0 is not found in class locale\n",
      "Error in <CreateRealData>: Cannot find data member # 0 of class locale for parent Belle2::DataStore!\n"
     ]
    }
   ],
   "source": [
    "import basf2 as b2\n",
    "import generators as ge\n",
    "import modularAnalysis as ma\n",
    "from ipython_tools import handler\n",
    "\n",
    "# generation of 100 events according to the specified DECAY table\n",
    "# Y(4S) -> Btag- Bsig+\n",
    "# Btag- -> D0 pi-; D0 -> K- pi+\n",
    "# Bsig+ -> mu+ nu_mu\n",
    "#\n",
    "\n",
    "# Defining custom path\n",
    "my_path = b2.create_path()\n",
    "\n",
    "# Setting up number of events to generate\n",
    "# This is needed before you generate any events\n",
    "ma.setupEventInfo(noEvents=10, path=my_path)\n",
    "\n",
    "\n",
    "# Adding generator\n",
    "# This specific event generator will generate either charged final states (charged B mesons)\n",
    "# or mixed final states (neutal B mesons)\n",
    "ge.add_evtgen_generator(path=my_path,\n",
    "                        finalstate='signal',\n",
    "                        signaldecfile='event_gen.dec')\n",
    "\n",
    "# Load detector geometry\n",
    "ma.loadGearbox(path=my_path)\n",
    "\n",
    "# Set the first parameter to zero if you want to see all the events.\n",
    "# This will show how many particles are generated in each event.\n",
    "#ma.printDataStore(0, path=my_path)\n",
    "# Show the decay chain in each event\n",
    "#ma.printMCParticles(path=my_path)\n",
    "\n",
    "# dump generated events in DST format to the output ROOT file\n",
    "my_path.add_module('RootOutput', outputFileName='event_gen.root')\n",
    "\n",
    "# process all modules added to the analysis_main path\n",
    "# (note: analysis_main is the default path created in the modularAnalysis.py)\n",
    "# b2.process(path=my_path)\n",
    "calc = handler.process(my_path)\n",
    "calc.show_path()\n",
    "calc.start()\n",
    "calc.wait_for_end()\n",
    "calc.show_log()\n",
    "\n",
    "# print out the summary\n",
    "# print(b2.statistics)\n"
   ]
  },
  {
   "cell_type": "markdown",
   "metadata": {},
   "source": [
    "As of 5/13/2019, there will be errors: \n",
    "```\n",
    "Error in <TProtoClass::FindDataMember>: data member with index 0 is not found in class locale\n",
    "Error in <CreateRealData>: Cannot find data member # 0 of class locale for parent Belle2::DataStore!\n",
    "```\n",
    "An issue (https://agira.desy.de/browse/BII-4847?filter=-2) has been filed but it is not resolved yet."
   ]
  },
  {
   "cell_type": "code",
   "execution_count": 6,
   "metadata": {},
   "outputs": [],
   "source": [
    "!rm event_gen.root"
   ]
  },
  {
   "cell_type": "code",
   "execution_count": null,
   "metadata": {},
   "outputs": [],
   "source": []
  }
 ],
 "metadata": {
  "kernelspec": {
   "display_name": "Python 3 (Belle2)",
   "language": "python",
   "name": "python3"
  },
  "language_info": {
   "codemirror_mode": {
    "name": "ipython",
    "version": 3
   },
   "file_extension": ".py",
   "mimetype": "text/x-python",
   "name": "python",
   "nbconvert_exporter": "python",
   "pygments_lexer": "ipython3",
   "version": "3.6.6"
  }
 },
 "nbformat": 4,
 "nbformat_minor": 2
}
